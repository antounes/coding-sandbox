{
 "cells": [
  {
   "cell_type": "markdown",
   "metadata": {},
   "source": [
    "# functions,columns,rows"
   ]
  },
  {
   "cell_type": "markdown",
   "metadata": {},
   "source": [
    "### 0 -getting lab data "
   ]
  },
  {
   "cell_type": "code",
   "execution_count": 4,
   "metadata": {
    "collapsed": true
   },
   "outputs": [],
   "source": [
    "import pandas as pd \n",
    "pandas_df_transactions=pd.read_csv('transactions.txt',sep=\"\\t\")\n",
    "pandas_df_magasins=pd.read_csv('magasins.txt',sep=\"\\t\")"
   ]
  },
  {
   "cell_type": "code",
   "execution_count": 5,
   "metadata": {
    "collapsed": false
   },
   "outputs": [
    {
     "name": "stdout",
     "output_type": "stream",
     "text": [
      "root\n",
      " |-- transaction_id: long (nullable = true)\n",
      " |-- date: string (nullable = true)\n",
      " |-- magasin: long (nullable = true)\n",
      " |-- quantity: long (nullable = true)\n",
      " |-- unit_price: long (nullable = true)\n",
      "\n"
     ]
    },
    {
     "data": {
      "text/plain": [
       "Row(transaction_id=0, date=u'2016-06-01', magasin=39, quantity=23, unit_price=12)"
      ]
     },
     "execution_count": 5,
     "metadata": {},
     "output_type": "execute_result"
    }
   ],
   "source": [
    "df_transactions=spark.createDataFrame(pandas_df_transactions)\n",
    "df_transactions.printSchema()\n",
    "df_transactions.first()"
   ]
  },
  {
   "cell_type": "code",
   "execution_count": 6,
   "metadata": {
    "collapsed": false
   },
   "outputs": [
    {
     "name": "stdout",
     "output_type": "stream",
     "text": [
      "root\n",
      " |-- magasin: long (nullable = true)\n",
      " |-- pays: string (nullable = true)\n",
      " |-- ville: string (nullable = true)\n",
      "\n"
     ]
    },
    {
     "data": {
      "text/plain": [
       "Row(magasin=0, pays=u'allemagne', ville=u'munich')"
      ]
     },
     "execution_count": 6,
     "metadata": {},
     "output_type": "execute_result"
    }
   ],
   "source": [
    "df_magasins=spark.createDataFrame(pandas_df_magasins)\n",
    "df_magasins.printSchema()\n",
    "df_magasins.first()"
   ]
  },
  {
   "cell_type": "markdown",
   "metadata": {},
   "source": [
    "### a - functions"
   ]
  },
  {
   "cell_type": "code",
   "execution_count": 7,
   "metadata": {
    "collapsed": true
   },
   "outputs": [],
   "source": [
    "import pyspark.sql.functions as F "
   ]
  },
  {
   "cell_type": "code",
   "execution_count": 9,
   "metadata": {
    "collapsed": false
   },
   "outputs": [
    {
     "data": {
      "text/plain": [
       "DataFrame[transaction_id: bigint, date: string, magasin: bigint, quantity: bigint, unit_price: bigint]"
      ]
     },
     "execution_count": 9,
     "metadata": {},
     "output_type": "execute_result"
    }
   ],
   "source": [
    "df_trs=df_transactions\n",
    "df_trs"
   ]
  },
  {
   "cell_type": "markdown",
   "metadata": {},
   "source": [
    "#### a - 1 - aggregate functions"
   ]
  },
  {
   "cell_type": "code",
   "execution_count": 11,
   "metadata": {
    "collapsed": true
   },
   "outputs": [],
   "source": [
    "#### aggregate functions \n",
    "## could be used after a groupBy (on groups of values),\n",
    "## or, as below, on the whole dataset to generate one line DF \n",
    "\n",
    "stats_df=(df_trs.select('*',(F.col('quantity')*F.col('unit_price')).alias('CA'))\n",
    "                .filter('CA>0')\n",
    "                  .select(\n",
    "                        F.count('*').alias('nb_transactions'),\n",
    "                        F.countDistinct('magasin').alias('nb_magasins'),\n",
    "                        F.min('CA').alias('min_CA'),\n",
    "                        F.max('CA').alias('max_CA'),\n",
    "                        F.sum('CA').alias('sum_CA'),\n",
    "                        F.mean('CA').alias('mean_CA'),\n",
    "                        F.stddev('CA').alias('stdv_CA'),\n",
    "                        F.variance('CA').alias('variance_CA'),\n",
    "                        F.skewness('CA').alias('skewness_CA'),\n",
    "                        F.kurtosis('CA').alias('kurtosis_CA'),\n",
    "                        F.first('CA').alias('first_CA'),\n",
    "                        F.last('CA').alias('last_CA'),\n",
    " \n",
    "                       )\n",
    "          )"
   ]
  },
  {
   "cell_type": "code",
   "execution_count": 12,
   "metadata": {
    "collapsed": false
   },
   "outputs": [
    {
     "data": {
      "text/plain": [
       "1"
      ]
     },
     "execution_count": 12,
     "metadata": {},
     "output_type": "execute_result"
    }
   ],
   "source": [
    "stats_df.count()"
   ]
  },
  {
   "cell_type": "code",
   "execution_count": 13,
   "metadata": {
    "collapsed": false
   },
   "outputs": [
    {
     "data": {
      "text/plain": [
       "Row(nb_transactions=434, nb_magasins=50, min_CA=8, max_CA=1862, sum_CA=223268, mean_CA=514.442396313364, stdv_CA=437.77632793736973, variance_CA=191648.11330232746, skewness_CA=0.9628570179886349, kurtosis_CA=0.08442603809537541, first_CA=252, last_CA=224)"
      ]
     },
     "execution_count": 13,
     "metadata": {},
     "output_type": "execute_result"
    }
   ],
   "source": [
    "stats_df.first()"
   ]
  },
  {
   "cell_type": "code",
   "execution_count": null,
   "metadata": {
    "collapsed": true
   },
   "outputs": [],
   "source": []
  },
  {
   "cell_type": "code",
   "execution_count": null,
   "metadata": {
    "collapsed": true
   },
   "outputs": [],
   "source": []
  },
  {
   "cell_type": "code",
   "execution_count": 14,
   "metadata": {
    "collapsed": true
   },
   "outputs": [],
   "source": [
    "#### d - 2 - other helpful functions"
   ]
  },
  {
   "cell_type": "code",
   "execution_count": 15,
   "metadata": {
    "collapsed": false
   },
   "outputs": [
    {
     "name": "stdout",
     "output_type": "stream",
     "text": [
      "root\n",
      " |-- transaction_id: long (nullable = true)\n",
      " |-- date: string (nullable = true)\n",
      " |-- magasin: long (nullable = true)\n",
      " |-- quantity: long (nullable = true)\n",
      " |-- unit_price: long (nullable = true)\n",
      " |-- arr: array (nullable = false)\n",
      " |    |-- element: string (containsNull = true)\n",
      "\n"
     ]
    }
   ],
   "source": [
    "df2=df_trs.select('*',F.array('date', 'magasin').alias(\"arr\"))\n",
    "df2.printSchema()"
   ]
  },
  {
   "cell_type": "code",
   "execution_count": 16,
   "metadata": {
    "collapsed": false
   },
   "outputs": [
    {
     "name": "stdout",
     "output_type": "stream",
     "text": [
      "Row(transaction_id=0, date=u'2016-06-01', magasin=39, quantity=23, unit_price=12, arr=[u'2016-06-01', u'39'])\n"
     ]
    }
   ],
   "source": [
    "print df2.first()"
   ]
  },
  {
   "cell_type": "code",
   "execution_count": 17,
   "metadata": {
    "collapsed": false
   },
   "outputs": [
    {
     "data": {
      "text/plain": [
       "[Row(transaction_id=0, date=u'2016-06-01', magasin=39, quantity=23, unit_price=12, arr=[u'2016-06-01', u'39']),\n",
       " Row(transaction_id=234, date=u'2016-06-01', magasin=12, quantity=61, unit_price=4, arr=[u'2016-06-01', u'12'])]"
      ]
     },
     "execution_count": 17,
     "metadata": {},
     "output_type": "execute_result"
    }
   ],
   "source": [
    "df2.filter(F.array_contains('arr','2016-06-01')).take(5)"
   ]
  },
  {
   "cell_type": "code",
   "execution_count": 18,
   "metadata": {
    "collapsed": false
   },
   "outputs": [
    {
     "data": {
      "text/plain": [
       "Row(date_set=[u'2016-06-01'], date_list=[u'2016-06-01', u'2016-06-01'])"
      ]
     },
     "execution_count": 18,
     "metadata": {},
     "output_type": "execute_result"
    }
   ],
   "source": [
    "df2.filter(F.array_contains('arr','2016-06-01')).select(F.collect_set('date').alias('date_set'),F.collect_list('date').alias('date_list')).first()"
   ]
  },
  {
   "cell_type": "code",
   "execution_count": 19,
   "metadata": {
    "collapsed": false
   },
   "outputs": [
    {
     "name": "stdout",
     "output_type": "stream",
     "text": [
      "+----+----+--------------+\n",
      "|   a|   b|coalesce(a, b)|\n",
      "+----+----+--------------+\n",
      "|null|null|          null|\n",
      "|   1|null|             1|\n",
      "|null|   2|             2|\n",
      "+----+----+--------------+\n",
      "\n"
     ]
    }
   ],
   "source": [
    "#coalesce\n",
    "cDf = spark.createDataFrame([(None, None), (1, None), (None, 2)], (\"a\", \"b\"))\n",
    "cDf.select('*',F.coalesce(cDf[\"a\"], cDf[\"b\"])).show()"
   ]
  },
  {
   "cell_type": "code",
   "execution_count": null,
   "metadata": {
    "collapsed": true
   },
   "outputs": [],
   "source": []
  },
  {
   "cell_type": "code",
   "execution_count": 20,
   "metadata": {
    "collapsed": false
   },
   "outputs": [
    {
     "data": {
      "text/plain": [
       "Row(transaction_id=0, date=u'2016-06-01', magasin=39, quantity=23, unit_price=12, concat_col=u'2016-06-01____39____23')"
      ]
     },
     "execution_count": 20,
     "metadata": {},
     "output_type": "execute_result"
    }
   ],
   "source": [
    "#concat\n",
    "df_trs.select('*',F.concat_ws('____','date','magasin','quantity').alias('concat_col')).first()"
   ]
  },
  {
   "cell_type": "code",
   "execution_count": null,
   "metadata": {
    "collapsed": true
   },
   "outputs": [],
   "source": []
  },
  {
   "cell_type": "code",
   "execution_count": 21,
   "metadata": {
    "collapsed": false
   },
   "outputs": [
    {
     "data": {
      "text/plain": [
       "[Row(transaction_id=0, date=u'2016-06-01', magasin=39, quantity=23, unit_price=12, constant=0.5, rand_uniform=0.6888080587964535, rand_normal=-0.2179185506838038),\n",
       " Row(transaction_id=1, date=u'2016-06-02', magasin=2, quantity=9, unit_price=13, constant=0.5, rand_uniform=0.23323297345010197, rand_normal=-0.7093073445840071)]"
      ]
     },
     "execution_count": 21,
     "metadata": {},
     "output_type": "execute_result"
    }
   ],
   "source": [
    "#lit , rand\n",
    "df_trs.select('*',F.lit(0.5).alias('constant'), F.rand().alias('rand_uniform'), F.randn().alias('rand_normal')).take(2)"
   ]
  },
  {
   "cell_type": "code",
   "execution_count": null,
   "metadata": {
    "collapsed": true
   },
   "outputs": [],
   "source": []
  },
  {
   "cell_type": "code",
   "execution_count": null,
   "metadata": {
    "collapsed": true
   },
   "outputs": [],
   "source": []
  },
  {
   "cell_type": "code",
   "execution_count": 22,
   "metadata": {
    "collapsed": false
   },
   "outputs": [
    {
     "name": "stdout",
     "output_type": "stream",
     "text": [
      "root\n",
      " |-- map: map (nullable = false)\n",
      " |    |-- key: string\n",
      " |    |-- value: long (valueContainsNull = true)\n",
      "\n",
      "Row(map={u'2016-06-01': 39})\n"
     ]
    }
   ],
   "source": [
    "# create map (spark 2 )\n",
    "df_trs.select(F.create_map('date', 'magasin').alias(\"map\")).printSchema()\n",
    "print df_trs.select(F.create_map('date', 'magasin').alias(\"map\")).first()"
   ]
  },
  {
   "cell_type": "code",
   "execution_count": null,
   "metadata": {
    "collapsed": true
   },
   "outputs": [],
   "source": []
  },
  {
   "cell_type": "code",
   "execution_count": 23,
   "metadata": {
    "collapsed": false
   },
   "outputs": [
    {
     "data": {
      "text/plain": [
       "[Row(a=u'ABC', hash=u'902fbdd2b1df0c4f70b4a5d23525e932')]"
      ]
     },
     "execution_count": 23,
     "metadata": {},
     "output_type": "execute_result"
    }
   ],
   "source": [
    "#hashing  (32 character hex string)\n",
    "spark.createDataFrame([('ABC',)], ['a']).select('*',F.md5('a').alias('hash')).collect()"
   ]
  },
  {
   "cell_type": "code",
   "execution_count": null,
   "metadata": {
    "collapsed": true
   },
   "outputs": [],
   "source": []
  },
  {
   "cell_type": "code",
   "execution_count": 24,
   "metadata": {
    "collapsed": false
   },
   "outputs": [
    {
     "data": {
      "text/plain": [
       "Row(transaction_id=0, date=u'2016-06-01', magasin=39, quantity=23, unit_price=12, month=u'06')"
      ]
     },
     "execution_count": 24,
     "metadata": {},
     "output_type": "execute_result"
    }
   ],
   "source": [
    "#substring\n",
    "df_trs.select('*',F.substring(df_trs.date, 6, 2).alias('month')).first()"
   ]
  },
  {
   "cell_type": "code",
   "execution_count": null,
   "metadata": {
    "collapsed": true
   },
   "outputs": [],
   "source": []
  },
  {
   "cell_type": "code",
   "execution_count": 25,
   "metadata": {
    "collapsed": true
   },
   "outputs": [],
   "source": [
    "# date functions "
   ]
  },
  {
   "cell_type": "code",
   "execution_count": 26,
   "metadata": {
    "collapsed": true
   },
   "outputs": [],
   "source": [
    "df_trs_times=df_trs.select('date',\n",
    "                        F.to_date('date').alias('date_as_dt'),\n",
    "                        F.date_format('date','MM/dd/yyy').alias('date_reformated'),\n",
    "                        F.unix_timestamp('date','yyyy-MM-dd').alias('tm_unix_date'),\n",
    "                        F.hour('date').alias('hour'), # if date is like : '2015-04-08 13:08:15'\n",
    "                        F.second('date').alias('second'), # if date is like : '2015-04-08 13:08:15'\n",
    "                        F.minute('date').alias('minute'), # if date is like : '2015-04-08 13:08:15'\n",
    "                        F.dayofmonth('date').alias('dayofmonth'),\n",
    "                        F.dayofyear('date').alias('dayofyear'),\n",
    "            ).select( '*',F.from_unixtime('tm_unix_date','yyyy-MM-dd HH:mm:ss').alias('date_from_unix_tm'),\n",
    "                        \n",
    "                        )                \n"
   ]
  },
  {
   "cell_type": "code",
   "execution_count": 27,
   "metadata": {
    "collapsed": false
   },
   "outputs": [
    {
     "name": "stdout",
     "output_type": "stream",
     "text": [
      "root\n",
      " |-- date: string (nullable = true)\n",
      " |-- date_as_dt: date (nullable = true)\n",
      " |-- date_reformated: string (nullable = true)\n",
      " |-- tm_unix_date: long (nullable = true)\n",
      " |-- hour: integer (nullable = true)\n",
      " |-- second: integer (nullable = true)\n",
      " |-- minute: integer (nullable = true)\n",
      " |-- dayofmonth: integer (nullable = true)\n",
      " |-- dayofyear: integer (nullable = true)\n",
      " |-- date_from_unix_tm: string (nullable = true)\n",
      "\n"
     ]
    }
   ],
   "source": [
    "df_trs_times.printSchema()"
   ]
  },
  {
   "cell_type": "code",
   "execution_count": 28,
   "metadata": {
    "collapsed": false
   },
   "outputs": [
    {
     "data": {
      "text/plain": [
       "Row(date=u'2016-06-01', date_as_dt=datetime.date(2016, 6, 1), date_reformated=u'06/01/2016', tm_unix_date=1464739200, hour=0, second=0, minute=0, dayofmonth=1, dayofyear=153, date_from_unix_tm=u'2016-06-01 00:00:00')"
      ]
     },
     "execution_count": 28,
     "metadata": {},
     "output_type": "execute_result"
    }
   ],
   "source": [
    "df_trs_times.first()"
   ]
  },
  {
   "cell_type": "code",
   "execution_count": 29,
   "metadata": {
    "collapsed": true
   },
   "outputs": [],
   "source": [
    "df_trs_times2=(df_trs.select(\n",
    "                'date',\n",
    "                F.current_date().alias('dt_now'),\n",
    "                F.current_timestamp().alias('tm_now'),\n",
    "                F.unix_timestamp().alias('tm_unix_now'),\n",
    "                F.unix_timestamp('date','yyyy-MM-dd').alias('tm_unix_date'),\n",
    "                F.datediff(F.date_format(F.current_timestamp(),'yyyy-MM-dd'),\n",
    "                           'date' ).alias('delta_days'))\n",
    "    )\n"
   ]
  },
  {
   "cell_type": "code",
   "execution_count": 30,
   "metadata": {
    "collapsed": false
   },
   "outputs": [
    {
     "name": "stdout",
     "output_type": "stream",
     "text": [
      "root\n",
      " |-- date: string (nullable = true)\n",
      " |-- dt_now: date (nullable = false)\n",
      " |-- tm_now: timestamp (nullable = false)\n",
      " |-- tm_unix_now: long (nullable = true)\n",
      " |-- tm_unix_date: long (nullable = true)\n",
      " |-- delta_days: integer (nullable = true)\n",
      "\n"
     ]
    }
   ],
   "source": [
    "# make difference between date as \"string\", as \"date\" , as \"timestamp\" \n",
    "df_trs_times2.printSchema()"
   ]
  },
  {
   "cell_type": "code",
   "execution_count": 31,
   "metadata": {
    "collapsed": false
   },
   "outputs": [
    {
     "data": {
      "text/plain": [
       "Row(date=u'2016-06-01', dt_now=datetime.date(2018, 1, 25), tm_now=datetime.datetime(2018, 1, 25, 22, 45, 50, 672000), tm_unix_now=1516920350, tm_unix_date=1464739200, delta_days=603)"
      ]
     },
     "execution_count": 31,
     "metadata": {},
     "output_type": "execute_result"
    }
   ],
   "source": [
    "df_trs_times2.first()"
   ]
  },
  {
   "cell_type": "code",
   "execution_count": null,
   "metadata": {
    "collapsed": true
   },
   "outputs": [],
   "source": []
  },
  {
   "cell_type": "code",
   "execution_count": 32,
   "metadata": {
    "collapsed": true
   },
   "outputs": [],
   "source": [
    "# monotically increased \n",
    "df0 = df_trs.repartition(1).select('*',F.monotonically_increasing_id().alias('id2'))\n",
    "df1 = df_trs.repartition(2).select('*',F.monotonically_increasing_id().alias('id2'))\n"
   ]
  },
  {
   "cell_type": "code",
   "execution_count": 33,
   "metadata": {
    "collapsed": false
   },
   "outputs": [
    {
     "data": {
      "text/plain": [
       "1"
      ]
     },
     "execution_count": 33,
     "metadata": {},
     "output_type": "execute_result"
    }
   ],
   "source": [
    "df0.rdd.getNumPartitions()"
   ]
  },
  {
   "cell_type": "code",
   "execution_count": 34,
   "metadata": {
    "collapsed": false
   },
   "outputs": [
    {
     "data": {
      "text/plain": [
       "2"
      ]
     },
     "execution_count": 34,
     "metadata": {},
     "output_type": "execute_result"
    }
   ],
   "source": [
    "df1.rdd.getNumPartitions()"
   ]
  },
  {
   "cell_type": "code",
   "execution_count": 35,
   "metadata": {
    "collapsed": false
   },
   "outputs": [
    {
     "data": {
      "text/plain": [
       "468"
      ]
     },
     "execution_count": 35,
     "metadata": {},
     "output_type": "execute_result"
    }
   ],
   "source": [
    "df_trs.count()"
   ]
  },
  {
   "cell_type": "code",
   "execution_count": 36,
   "metadata": {
    "collapsed": false
   },
   "outputs": [
    {
     "name": "stdout",
     "output_type": "stream",
     "text": [
      "[Row(max(id2)=467, min(id2)=0, avg(id2)=233.5)]\n"
     ]
    }
   ],
   "source": [
    "print df0.select(F.max('id2'),F.min('id2'),F.avg('id2')).collect()\n"
   ]
  },
  {
   "cell_type": "code",
   "execution_count": 37,
   "metadata": {
    "collapsed": false
   },
   "outputs": [
    {
     "name": "stdout",
     "output_type": "stream",
     "text": [
      "[Row(max(id2)=8589934825, min(id2)=0, avg(id2)=4294967412.5)]\n"
     ]
    }
   ],
   "source": [
    "print df1.select(F.max('id2'),F.min('id2'),F.avg('id2')).collect()\n"
   ]
  },
  {
   "cell_type": "code",
   "execution_count": null,
   "metadata": {
    "collapsed": true
   },
   "outputs": [],
   "source": []
  },
  {
   "cell_type": "code",
   "execution_count": 38,
   "metadata": {
    "collapsed": true
   },
   "outputs": [],
   "source": [
    "# explode\n",
    "df_trs_g=df_trs.groupBy('magasin').agg(F.collect_set('date').alias('dates'))"
   ]
  },
  {
   "cell_type": "code",
   "execution_count": 39,
   "metadata": {
    "collapsed": false
   },
   "outputs": [
    {
     "name": "stdout",
     "output_type": "stream",
     "text": [
      "50\n",
      "Row(magasin=29, dates=[u'2016-09-17', u'2016-11-12', u'2016-07-01', u'2016-07-12', u'2017-01-01', u'2016-06-12', u'2017-01-15', u'2017-01-06', u'2016-11-28', u'2016-07-05', u'2016-08-16', u'2016-09-05', u'2016-11-27', u'2016-08-30', u'2017-01-04'])\n"
     ]
    }
   ],
   "source": [
    "print df_trs_g.count()\n",
    "print df_trs_g.first()"
   ]
  },
  {
   "cell_type": "code",
   "execution_count": 40,
   "metadata": {
    "collapsed": false
   },
   "outputs": [
    {
     "name": "stdout",
     "output_type": "stream",
     "text": [
      "460\n",
      "[Row(magasin=29, date=u'2016-09-17'), Row(magasin=29, date=u'2016-11-12'), Row(magasin=29, date=u'2016-07-01')]\n"
     ]
    }
   ],
   "source": [
    "print df_trs_g.select('magasin',F.explode('dates').alias('date')).count()\n",
    "print df_trs_g.select('magasin',F.explode('dates').alias('date')).take(3)"
   ]
  },
  {
   "cell_type": "code",
   "execution_count": null,
   "metadata": {
    "collapsed": true
   },
   "outputs": [],
   "source": []
  },
  {
   "cell_type": "code",
   "execution_count": 41,
   "metadata": {
    "collapsed": true
   },
   "outputs": [],
   "source": [
    "# cos, sin , coh , sinh, tan, tanh\n",
    "# lentgh(string_col) , size (array) , "
   ]
  },
  {
   "cell_type": "code",
   "execution_count": null,
   "metadata": {
    "collapsed": true
   },
   "outputs": [],
   "source": []
  },
  {
   "cell_type": "code",
   "execution_count": null,
   "metadata": {
    "collapsed": true
   },
   "outputs": [],
   "source": []
  },
  {
   "cell_type": "markdown",
   "metadata": {},
   "source": [
    "### b - rows"
   ]
  },
  {
   "cell_type": "code",
   "execution_count": 94,
   "metadata": {
    "collapsed": false
   },
   "outputs": [
    {
     "data": {
      "text/plain": [
       "Row(age=1, name='Alice')"
      ]
     },
     "execution_count": 94,
     "metadata": {},
     "output_type": "execute_result"
    }
   ],
   "source": [
    "from pyspark.sql import Row\n",
    "r=Row(name=\"Alice\", age=1)\n",
    "r"
   ]
  },
  {
   "cell_type": "code",
   "execution_count": 95,
   "metadata": {
    "collapsed": false
   },
   "outputs": [
    {
     "name": "stdout",
     "output_type": "stream",
     "text": [
      "root\n",
      " |-- age: long (nullable = true)\n",
      " |-- name: string (nullable = true)\n",
      "\n"
     ]
    }
   ],
   "source": [
    "d =[r]\n",
    "df=spark.createDataFrame(d)\n",
    "df.printSchema()\n"
   ]
  },
  {
   "cell_type": "code",
   "execution_count": 96,
   "metadata": {
    "collapsed": false
   },
   "outputs": [
    {
     "data": {
      "text/plain": [
       "Row(transaction_id=0, date=u'2016-06-01', magasin=39, quantity=23, unit_price=12)"
      ]
     },
     "execution_count": 96,
     "metadata": {},
     "output_type": "execute_result"
    }
   ],
   "source": [
    "r=df_trs.first()\n",
    "r"
   ]
  },
  {
   "cell_type": "code",
   "execution_count": 92,
   "metadata": {
    "collapsed": false
   },
   "outputs": [
    {
     "name": "stdout",
     "output_type": "stream",
     "text": [
      "{'date': u'2016-06-01', 'quantity': 23, 'unit_price': 12, 'transaction_id': 0, 'magasin': 39}\n",
      "2\n",
      "1\n"
     ]
    }
   ],
   "source": [
    "print r.asDict()\n",
    "print r.index(39)\n",
    "print r.count(12)"
   ]
  },
  {
   "cell_type": "code",
   "execution_count": 100,
   "metadata": {
    "collapsed": true
   },
   "outputs": [],
   "source": [
    "import numpy as np"
   ]
  },
  {
   "cell_type": "code",
   "execution_count": 104,
   "metadata": {
    "collapsed": false
   },
   "outputs": [
    {
     "data": {
      "text/plain": [
       "25.0"
      ]
     },
     "execution_count": 104,
     "metadata": {},
     "output_type": "execute_result"
    }
   ],
   "source": []
  },
  {
   "cell_type": "code",
   "execution_count": 106,
   "metadata": {
    "collapsed": false
   },
   "outputs": [
    {
     "data": {
      "text/plain": [
       "({'date': u'2016-06-01',\n",
       "  'magasin': 39,\n",
       "  'quantity': 23,\n",
       "  'transaction_id': 0,\n",
       "  'unit_price': 12},\n",
       " 1728.0)"
      ]
     },
     "execution_count": 106,
     "metadata": {},
     "output_type": "execute_result"
    }
   ],
   "source": [
    "df_trs.filter('date=\"2016-06-01\"').rdd.map(lambda x: x.asDict()).map(lambda x : (x,np.float(x['unit_price'])**3)).first()"
   ]
  },
  {
   "cell_type": "code",
   "execution_count": 107,
   "metadata": {
    "collapsed": false
   },
   "outputs": [
    {
     "data": {
      "text/plain": [
       "({'date': u'2016-06-01',\n",
       "  'magasin': 39,\n",
       "  'quantity': 23,\n",
       "  'transaction_id': 0,\n",
       "  'unit_price': 12},\n",
       " 1728.0)"
      ]
     },
     "execution_count": 107,
     "metadata": {},
     "output_type": "execute_result"
    }
   ],
   "source": [
    "df_trs.filter('date=\"2016-06-01\"').rdd.map(lambda x : (x.asDict(),np.float(x.unit_price)**3)).first()"
   ]
  },
  {
   "cell_type": "markdown",
   "metadata": {},
   "source": [
    "### b - columns"
   ]
  },
  {
   "cell_type": "code",
   "execution_count": 42,
   "metadata": {
    "collapsed": false
   },
   "outputs": [
    {
     "name": "stdout",
     "output_type": "stream",
     "text": [
      "Column<quantity>\n",
      "Column<quantity>\n"
     ]
    }
   ],
   "source": [
    "print F.col('quantity')\n",
    "print df_trs['quantity']"
   ]
  },
  {
   "cell_type": "code",
   "execution_count": 43,
   "metadata": {
    "collapsed": false
   },
   "outputs": [
    {
     "data": {
      "text/plain": [
       "Column<non_existing_column>"
      ]
     },
     "execution_count": 43,
     "metadata": {},
     "output_type": "execute_result"
    }
   ],
   "source": [
    "F.col('non_existing_column')"
   ]
  },
  {
   "cell_type": "code",
   "execution_count": 44,
   "metadata": {
    "collapsed": true
   },
   "outputs": [],
   "source": [
    "######  this raises error \n",
    "#df_trs['non_existing_column']"
   ]
  },
  {
   "cell_type": "code",
   "execution_count": 45,
   "metadata": {
    "collapsed": false
   },
   "outputs": [
    {
     "data": {
      "text/plain": [
       "Column<(quantity * unit_price) AS `CA`>"
      ]
     },
     "execution_count": 45,
     "metadata": {},
     "output_type": "execute_result"
    }
   ],
   "source": [
    "(F.col('quantity')*F.col('unit_price')).alias('CA')"
   ]
  },
  {
   "cell_type": "code",
   "execution_count": null,
   "metadata": {
    "collapsed": true
   },
   "outputs": [],
   "source": []
  },
  {
   "cell_type": "code",
   "execution_count": 47,
   "metadata": {
    "collapsed": false
   },
   "outputs": [
    {
     "name": "stdout",
     "output_type": "stream",
     "text": [
      "Column<CAST((quantity * unit_price) AS INT) AS `CA`> \n",
      "\n",
      "Row(transaction_id=0, date=u'2016-06-01', magasin=39, quantity=23, unit_price=12, CA=276)\n"
     ]
    }
   ],
   "source": [
    "\n",
    "col=(F.col('quantity')*F.col('unit_price')).cast('int').alias('CA')\n",
    "print col ,'\\n'\n",
    "print df_trs.select('*',col).first()"
   ]
  },
  {
   "cell_type": "code",
   "execution_count": 68,
   "metadata": {
    "collapsed": false
   },
   "outputs": [
    {
     "name": "stdout",
     "output_type": "stream",
     "text": [
      "Column<(CAST((quantity * unit_price) AS INT) AS `CA` IN (1, 2, 3, 4, 5, 6, 7, 8, 9)) AS `boolean_ca_filter_0_10`>\n"
     ]
    }
   ],
   "source": [
    "col_boolean_1=col.isin({1,2,3,4,5,6,7,8,9}).alias('boolean_ca_filter_0_10')\n",
    "print col_boolean_1 "
   ]
  },
  {
   "cell_type": "code",
   "execution_count": 69,
   "metadata": {
    "collapsed": false
   },
   "outputs": [
    {
     "name": "stdout",
     "output_type": "stream",
     "text": [
      "Row(transaction_id=4, date=u'2016-06-05', magasin=37, quantity=4, unit_price=2, CA=8)\n",
      "Row(transaction_id=4, date=u'2016-06-05', magasin=37, quantity=4, unit_price=2)\n"
     ]
    }
   ],
   "source": [
    "\n",
    "print df_trs.select('*',col).filter(col_boolean_1).first()\n",
    "print df_trs.filter(col_boolean_1).first()"
   ]
  },
  {
   "cell_type": "code",
   "execution_count": null,
   "metadata": {
    "collapsed": true
   },
   "outputs": [],
   "source": []
  },
  {
   "cell_type": "code",
   "execution_count": 70,
   "metadata": {
    "collapsed": false
   },
   "outputs": [
    {
     "name": "stdout",
     "output_type": "stream",
     "text": [
      "Column<((CAST((quantity * unit_price) AS INT) AS `CA` >= 10) AND (CAST((quantity * unit_price) AS INT) AS `CA` <= 20)) AS `boolean_ca_filter_10_20`>\n"
     ]
    }
   ],
   "source": [
    "col_boolean_2=col.between(10,20).alias('boolean_ca_filter_10_20')\n",
    "print col_boolean_2 "
   ]
  },
  {
   "cell_type": "code",
   "execution_count": 71,
   "metadata": {
    "collapsed": false
   },
   "outputs": [
    {
     "name": "stdout",
     "output_type": "stream",
     "text": [
      "Row(transaction_id=98, date=u'2016-09-07', magasin=49, quantity=6, unit_price=3, CA=18)\n",
      "Row(transaction_id=98, date=u'2016-09-07', magasin=49, quantity=6, unit_price=3)\n"
     ]
    }
   ],
   "source": [
    "\n",
    "print df_trs.select('*',col).filter(col_boolean_2).first()\n",
    "print df_trs.filter(col_boolean_2).first()"
   ]
  },
  {
   "cell_type": "code",
   "execution_count": null,
   "metadata": {
    "collapsed": true
   },
   "outputs": [],
   "source": []
  },
  {
   "cell_type": "code",
   "execution_count": 72,
   "metadata": {
    "collapsed": false
   },
   "outputs": [
    {
     "name": "stdout",
     "output_type": "stream",
     "text": [
      "Column<CAST((quantity * unit_price) AS INT) AS `CA` DESC NULLS LAST> \n",
      "\n"
     ]
    }
   ],
   "source": [
    "col_sorting_expression=col.desc()\n",
    "\n",
    "print col_sorting_expression ,'\\n'"
   ]
  },
  {
   "cell_type": "code",
   "execution_count": 73,
   "metadata": {
    "collapsed": false
   },
   "outputs": [
    {
     "name": "stdout",
     "output_type": "stream",
     "text": [
      "Row(transaction_id=409, date=u'2016-11-23', magasin=48, quantity=98, unit_price=19, CA=1862)\n"
     ]
    }
   ],
   "source": [
    "\n",
    "print df_trs.select('*',col).orderBy(col_sorting_expression).first()"
   ]
  },
  {
   "cell_type": "code",
   "execution_count": 74,
   "metadata": {
    "collapsed": false
   },
   "outputs": [
    {
     "data": {
      "text/plain": [
       "Row(max(CA)=1862)"
      ]
     },
     "execution_count": 74,
     "metadata": {},
     "output_type": "execute_result"
    }
   ],
   "source": [
    "df_trs.select('*',col).agg({'CA':'max'}).first()"
   ]
  },
  {
   "cell_type": "code",
   "execution_count": null,
   "metadata": {
    "collapsed": true
   },
   "outputs": [],
   "source": []
  },
  {
   "cell_type": "code",
   "execution_count": 75,
   "metadata": {
    "collapsed": true
   },
   "outputs": [],
   "source": [
    "####other column functions\n",
    "# alias , asc , astype , cast, between , bitwiseAND, bitwiseOR , desc , getField , endswith  , isNotNull , isNull , isin\n",
    "# like, startswith , substr"
   ]
  }
 ],
 "metadata": {
  "kernelspec": {
   "display_name": "Python 2",
   "language": "python",
   "name": "python2"
  },
  "language_info": {
   "codemirror_mode": {
    "name": "ipython",
    "version": 2
   },
   "file_extension": ".py",
   "mimetype": "text/x-python",
   "name": "python",
   "nbconvert_exporter": "python",
   "pygments_lexer": "ipython2",
   "version": "2.7.13"
  }
 },
 "nbformat": 4,
 "nbformat_minor": 0
}
