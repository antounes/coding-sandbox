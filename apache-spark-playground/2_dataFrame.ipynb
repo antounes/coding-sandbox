{
 "cells": [
  {
   "cell_type": "markdown",
   "metadata": {},
   "source": [
    "# pyspark.sql.dataframe"
   ]
  },
  {
   "cell_type": "code",
   "execution_count": null,
   "metadata": {
    "collapsed": true
   },
   "outputs": [],
   "source": []
  },
  {
   "cell_type": "markdown",
   "metadata": {},
   "source": [
    "#### 0 - getting lab data"
   ]
  },
  {
   "cell_type": "code",
   "execution_count": 1,
   "metadata": {
    "collapsed": true
   },
   "outputs": [],
   "source": [
    "import pandas as pd \n",
    "pandas_df_transactions=pd.read_csv('transactions.txt',sep=\"\\t\")\n",
    "pandas_df_magasins=pd.read_csv('magasins.txt',sep=\"\\t\")"
   ]
  },
  {
   "cell_type": "code",
   "execution_count": 2,
   "metadata": {
    "collapsed": false
   },
   "outputs": [
    {
     "name": "stdout",
     "output_type": "stream",
     "text": [
      "root\n",
      " |-- transaction_id: long (nullable = true)\n",
      " |-- date: string (nullable = true)\n",
      " |-- magasin: long (nullable = true)\n",
      " |-- quantity: long (nullable = true)\n",
      " |-- unit_price: long (nullable = true)\n",
      "\n"
     ]
    },
    {
     "data": {
      "text/plain": [
       "Row(transaction_id=0, date=u'2016-06-01', magasin=39, quantity=23, unit_price=12)"
      ]
     },
     "execution_count": 2,
     "metadata": {},
     "output_type": "execute_result"
    }
   ],
   "source": [
    "df_transactions=spark.createDataFrame(pandas_df_transactions)\n",
    "df_transactions.printSchema()\n",
    "df_transactions.first()"
   ]
  },
  {
   "cell_type": "markdown",
   "metadata": {},
   "source": [
    "df_magasins=spark.createDataFrame(pandas_df_magasins)\n",
    "df_magasins.printSchema()\n",
    "df_magasins.first()"
   ]
  },
  {
   "cell_type": "code",
   "execution_count": null,
   "metadata": {
    "collapsed": true
   },
   "outputs": [],
   "source": []
  },
  {
   "cell_type": "markdown",
   "metadata": {},
   "source": [
    "### a - basic Dataframe operations"
   ]
  },
  {
   "cell_type": "code",
   "execution_count": 4,
   "metadata": {
    "collapsed": false
   },
   "outputs": [
    {
     "data": {
      "text/plain": [
       "DataFrame[transaction_id: bigint, date: string, magasin: bigint, quantity: bigint, unit_price: bigint]"
      ]
     },
     "execution_count": 4,
     "metadata": {},
     "output_type": "execute_result"
    }
   ],
   "source": [
    "df_trs=df_transactions\n",
    "df_trs"
   ]
  },
  {
   "cell_type": "markdown",
   "metadata": {},
   "source": [
    "#### a - 0 actions (not lazy, launch all previous non cached transformations leading to current DF)"
   ]
  },
  {
   "cell_type": "code",
   "execution_count": 8,
   "metadata": {
    "collapsed": false
   },
   "outputs": [
    {
     "name": "stdout",
     "output_type": "stream",
     "text": [
      "Row(transaction_id=0, date=u'2016-06-01', magasin=39, quantity=23, unit_price=12)\n"
     ]
    }
   ],
   "source": [
    "# first \n",
    "print df_trs.first()"
   ]
  },
  {
   "cell_type": "code",
   "execution_count": 11,
   "metadata": {
    "collapsed": false
   },
   "outputs": [
    {
     "name": "stdout",
     "output_type": "stream",
     "text": [
      "2016-06-01\n",
      "{'date': u'2016-06-01', 'quantity': 23, 'unit_price': 12, 'transaction_id': 0, 'magasin': 39}\n"
     ]
    }
   ],
   "source": [
    "print df_trs.first().date\n",
    "print df_trs.first().asDict()\n"
   ]
  },
  {
   "cell_type": "code",
   "execution_count": null,
   "metadata": {
    "collapsed": true
   },
   "outputs": [],
   "source": []
  },
  {
   "cell_type": "code",
   "execution_count": 12,
   "metadata": {
    "collapsed": false
   },
   "outputs": [
    {
     "data": {
      "text/plain": [
       "468"
      ]
     },
     "execution_count": 12,
     "metadata": {},
     "output_type": "execute_result"
    }
   ],
   "source": [
    "# count \n",
    "df_trs.count()"
   ]
  },
  {
   "cell_type": "code",
   "execution_count": null,
   "metadata": {
    "collapsed": true
   },
   "outputs": [],
   "source": []
  },
  {
   "cell_type": "code",
   "execution_count": 13,
   "metadata": {
    "collapsed": false
   },
   "outputs": [
    {
     "data": {
      "text/html": [
       "<div>\n",
       "<table border=\"1\" class=\"dataframe\">\n",
       "  <thead>\n",
       "    <tr style=\"text-align: right;\">\n",
       "      <th></th>\n",
       "      <th>transaction_id</th>\n",
       "      <th>date</th>\n",
       "      <th>magasin</th>\n",
       "      <th>quantity</th>\n",
       "      <th>unit_price</th>\n",
       "    </tr>\n",
       "  </thead>\n",
       "  <tbody>\n",
       "    <tr>\n",
       "      <th>0</th>\n",
       "      <td>0</td>\n",
       "      <td>2016-06-01</td>\n",
       "      <td>39</td>\n",
       "      <td>23</td>\n",
       "      <td>12</td>\n",
       "    </tr>\n",
       "    <tr>\n",
       "      <th>1</th>\n",
       "      <td>234</td>\n",
       "      <td>2016-06-01</td>\n",
       "      <td>12</td>\n",
       "      <td>61</td>\n",
       "      <td>4</td>\n",
       "    </tr>\n",
       "  </tbody>\n",
       "</table>\n",
       "</div>"
      ],
      "text/plain": [
       "   transaction_id        date  magasin  quantity  unit_price\n",
       "0               0  2016-06-01       39        23          12\n",
       "1             234  2016-06-01       12        61           4"
      ]
     },
     "execution_count": 13,
     "metadata": {},
     "output_type": "execute_result"
    }
   ],
   "source": [
    "#toPandas\n",
    "df_trs.filter('date=\"2016-06-01\"').toPandas()"
   ]
  },
  {
   "cell_type": "code",
   "execution_count": 15,
   "metadata": {
    "collapsed": false
   },
   "outputs": [
    {
     "data": {
      "text/plain": [
       "[Row(transaction_id=0, date=u'2016-06-01', magasin=39, quantity=23, unit_price=12),\n",
       " Row(transaction_id=234, date=u'2016-06-01', magasin=12, quantity=61, unit_price=4)]"
      ]
     },
     "execution_count": 15,
     "metadata": {},
     "output_type": "execute_result"
    }
   ],
   "source": [
    "#collect all elements as list of rows\n",
    "df_trs.filter('date=\"2016-06-01\"').collect()"
   ]
  },
  {
   "cell_type": "code",
   "execution_count": 18,
   "metadata": {
    "collapsed": false
   },
   "outputs": [
    {
     "name": "stdout",
     "output_type": "stream",
     "text": [
      "+--------------+----------+-------+--------+----------+\n",
      "|transaction_id|      date|magasin|quantity|unit_price|\n",
      "+--------------+----------+-------+--------+----------+\n",
      "|             0|2016-06-01|     39|      23|        12|\n",
      "|             1|2016-06-02|      2|       9|        13|\n",
      "|             2|2016-06-03|     41|      69|         5|\n",
      "|             3|2016-06-04|     32|      23|         4|\n",
      "|             4|2016-06-05|     37|       4|         2|\n",
      "+--------------+----------+-------+--------+----------+\n",
      "only showing top 5 rows\n",
      "\n"
     ]
    }
   ],
   "source": [
    "df_trs.show(5)  # default: 20 rows"
   ]
  },
  {
   "cell_type": "code",
   "execution_count": null,
   "metadata": {
    "collapsed": true
   },
   "outputs": [],
   "source": []
  },
  {
   "cell_type": "code",
   "execution_count": 31,
   "metadata": {
    "collapsed": false
   },
   "outputs": [
    {
     "data": {
      "text/plain": [
       "[Row(transaction_id=0, date=u'2016-06-01', magasin=39, quantity=23, unit_price=12),\n",
       " Row(transaction_id=1, date=u'2016-06-02', magasin=2, quantity=9, unit_price=13),\n",
       " Row(transaction_id=2, date=u'2016-06-03', magasin=41, quantity=69, unit_price=5)]"
      ]
     },
     "execution_count": 31,
     "metadata": {},
     "output_type": "execute_result"
    }
   ],
   "source": [
    "# take(n) : list of n first elements\n",
    "df_trs.take(3)"
   ]
  },
  {
   "cell_type": "code",
   "execution_count": null,
   "metadata": {
    "collapsed": true
   },
   "outputs": [],
   "source": []
  },
  {
   "cell_type": "markdown",
   "metadata": {},
   "source": [
    "##### NB : saving data to storage :\n",
    "##### way : 1 - use write to get lazily a DataFrameWriter to write then unlazily to used distributed storage \n"
   ]
  },
  {
   "cell_type": "code",
   "execution_count": 33,
   "metadata": {
    "collapsed": false
   },
   "outputs": [
    {
     "name": "stdout",
     "output_type": "stream",
     "text": [
      "<class 'pyspark.sql.readwriter.DataFrameWriter'>\n"
     ]
    }
   ],
   "source": [
    "#get DataFrameWriter to write parquet to used distributed storage in a given data format (csv, parquet, json, avro, ...)\n",
    "print type(df_trs.write)\n",
    "# df_trs.write.csv('path/to/my_file/in/the/used/disributed/storage/system/my_file.csv')\n",
    "# df_trs.write.json('path/to/my_file/in/the/used/disributed/storage/system/my_file.json')\n",
    "# df_trs.write.parquet('path/to/my_file/in/the/used/disributed/storage/system/my_file.parquet')\n",
    "\n"
   ]
  },
  {
   "cell_type": "code",
   "execution_count": null,
   "metadata": {
    "collapsed": true
   },
   "outputs": [],
   "source": []
  },
  {
   "cell_type": "markdown",
   "metadata": {},
   "source": [
    "##### way : 2 - for small datasets its possible to get unlazily the DF data into the driver (toPandas() ) and write then to driver's machine storage using pyhton"
   ]
  },
  {
   "cell_type": "code",
   "execution_count": 34,
   "metadata": {
    "collapsed": true
   },
   "outputs": [],
   "source": [
    "df_pandas=df_trs.toPandas()"
   ]
  },
  {
   "cell_type": "code",
   "execution_count": 35,
   "metadata": {
    "collapsed": true
   },
   "outputs": [],
   "source": [
    "df_pandas.to_csv('transactions_without_header.csv',sep='\\t',header=False,index=False)"
   ]
  },
  {
   "cell_type": "code",
   "execution_count": null,
   "metadata": {
    "collapsed": true
   },
   "outputs": [],
   "source": []
  },
  {
   "cell_type": "code",
   "execution_count": null,
   "metadata": {
    "collapsed": true
   },
   "outputs": [],
   "source": []
  },
  {
   "cell_type": "markdown",
   "metadata": {},
   "source": [
    "##### a - 1 - Selecting columns (lazy)"
   ]
  },
  {
   "cell_type": "code",
   "execution_count": 36,
   "metadata": {
    "collapsed": true
   },
   "outputs": [],
   "source": [
    "# selecting string expression of columns\n",
    "df1=df_trs.select(\"transaction_id\",\"date\",'magasin')"
   ]
  },
  {
   "cell_type": "code",
   "execution_count": 37,
   "metadata": {
    "collapsed": true
   },
   "outputs": [],
   "source": [
    "# selecting pyspark.sql.Column type (which can be manipulated with column functions)\n",
    "df2=df_trs.select(\n",
    "                    df_trs[\"transaction_id\"], \n",
    "                    ( df_trs[\"quantity\"]* df_trs[\"unit_price\"] ).alias(\"CA\") ,\n",
    "                    df_trs[\"date\"], \n",
    "                )\n",
    "\n"
   ]
  },
  {
   "cell_type": "code",
   "execution_count": 38,
   "metadata": {
    "collapsed": true
   },
   "outputs": [],
   "source": [
    "#non recomended as a field can be a df property\n",
    "df3=df_trs.select(df_trs.transaction_id,df_trs.date )\n",
    "                "
   ]
  },
  {
   "cell_type": "code",
   "execution_count": 39,
   "metadata": {
    "collapsed": false
   },
   "outputs": [
    {
     "name": "stdout",
     "output_type": "stream",
     "text": [
      "root\n",
      " |-- transaction_id: long (nullable = true)\n",
      " |-- date: string (nullable = true)\n",
      " |-- magasin: long (nullable = true)\n",
      "\n",
      "root\n",
      " |-- transaction_id: long (nullable = true)\n",
      " |-- CA: long (nullable = true)\n",
      " |-- date: string (nullable = true)\n",
      "\n",
      "root\n",
      " |-- transaction_id: long (nullable = true)\n",
      " |-- date: string (nullable = true)\n",
      "\n"
     ]
    }
   ],
   "source": [
    "df1.printSchema()    \n",
    "df2.printSchema()    \n",
    "df3.printSchema()    \n"
   ]
  },
  {
   "cell_type": "code",
   "execution_count": 40,
   "metadata": {
    "collapsed": false
   },
   "outputs": [
    {
     "name": "stdout",
     "output_type": "stream",
     "text": [
      "root\n",
      " |-- transaction_id: long (nullable = true)\n",
      " |-- CA: long (nullable = true)\n",
      "\n"
     ]
    }
   ],
   "source": [
    "#select expression\n",
    "df_trs.selectExpr(\"transaction_id\",\n",
    "                \"quantity*unit_price as CA\"\n",
    "               ).printSchema()\n"
   ]
  },
  {
   "cell_type": "code",
   "execution_count": 41,
   "metadata": {
    "collapsed": false
   },
   "outputs": [
    {
     "name": "stdout",
     "output_type": "stream",
     "text": [
      "root\n",
      " |-- unit_price_taxed: long (nullable = true)\n",
      " |-- CA: long (nullable = true)\n",
      " |-- transaction_id: long (nullable = true)\n",
      " |-- date: string (nullable = true)\n",
      " |-- magasin: long (nullable = true)\n",
      " |-- quantity: long (nullable = true)\n",
      " |-- unit_price: long (nullable = true)\n",
      "\n"
     ]
    }
   ],
   "source": [
    "exprr=[\"if (magasin=0,unit_price,unit_price+2) as unit_price_taxed\",  \"quantity*unit_price as CA\",\"*\"]\n",
    "df_trs.selectExpr(exprr).printSchema()"
   ]
  },
  {
   "cell_type": "code",
   "execution_count": null,
   "metadata": {
    "collapsed": true
   },
   "outputs": [],
   "source": []
  },
  {
   "cell_type": "markdown",
   "metadata": {},
   "source": [
    "##### a - 2 - filtering on columns (lazy)"
   ]
  },
  {
   "cell_type": "code",
   "execution_count": 42,
   "metadata": {
    "collapsed": true
   },
   "outputs": [],
   "source": [
    "# filtering via a condition as a string of SQL expression\n",
    "df_filtered_trascations1=df_trs.filter(\n",
    "                                        \"(magasin=0 or magasin=1) and (quantity>5 or unit_price>10)\"\n",
    "                                        )\n",
    "df_filtered_trascations2=df_trs.filter(\n",
    "                                        \"(magasin in (0,1)) and (quantity>5 or unit_price>10)\"\n",
    "                                        )"
   ]
  },
  {
   "cell_type": "code",
   "execution_count": 44,
   "metadata": {
    "collapsed": false
   },
   "outputs": [
    {
     "name": "stdout",
     "output_type": "stream",
     "text": [
      "468\n",
      "20\n",
      "20\n"
     ]
    }
   ],
   "source": [
    "print df_trs.count()\n",
    "print df_filtered_trascations1.count()\n",
    "print df_filtered_trascations2.count()"
   ]
  },
  {
   "cell_type": "code",
   "execution_count": 45,
   "metadata": {
    "collapsed": false
   },
   "outputs": [
    {
     "name": "stdout",
     "output_type": "stream",
     "text": [
      "<class 'pyspark.sql.column.Column'>\n",
      "<class 'pyspark.sql.column.Column'>\n",
      "<class 'pyspark.sql.column.Column'>\n"
     ]
    }
   ],
   "source": [
    "# filtering via a condition as a Column of type  pyspark.sql.types.BooleanType \n",
    "print type(df_trs.magasin)\n",
    "print type(df_trs.magasin<2)\n",
    "print type(df_trs.magasin.isin(0,1))"
   ]
  },
  {
   "cell_type": "code",
   "execution_count": 46,
   "metadata": {
    "collapsed": true
   },
   "outputs": [],
   "source": [
    "df_filtered_trascations1= df_trs.filter(\n",
    "                                    (df_trs['magasin'].isin(0,1)) & (\n",
    "                                                                        (\n",
    "                                                                            (df_trs['quantity']>5) | (df_trs['unit_price']>10)\n",
    "                                                                         )\n",
    "                                                                    )\n",
    "                        )\n",
    "\n"
   ]
  },
  {
   "cell_type": "code",
   "execution_count": 47,
   "metadata": {
    "collapsed": false
   },
   "outputs": [
    {
     "name": "stdout",
     "output_type": "stream",
     "text": [
      "468\n",
      "20\n"
     ]
    }
   ],
   "source": [
    "print df_trs.count()\n",
    "print df_filtered_trascations1.count()"
   ]
  },
  {
   "cell_type": "code",
   "execution_count": 54,
   "metadata": {
    "collapsed": false
   },
   "outputs": [],
   "source": [
    "df_filtered_trascations_tmp= df_trs.select('*',\n",
    "                                                \n",
    "                                                (  (df_trs['magasin'].isin(0,1)) & (   \n",
    "                                                                                        # how to use\n",
    "                                                                                       ~ (\n",
    "                                                                                            (~(df_trs['quantity']>5)) &\n",
    "                                                                                            (~(df_trs['unit_price']>10))\n",
    "                                                                                         )\n",
    "                                                                                    )\n",
    "                                                ).alias('boolean_filter')\n",
    "                        )\n",
    "\n",
    "df_filtered_trascations_2_1=df_filtered_trascations_tmp.filter('boolean_filter')\n",
    "df_filtered_trascations_2_2=df_filtered_trascations_tmp.filter('boolean_filter=true')\n",
    "df_filtered_trascations_3_1=df_filtered_trascations_tmp.filter(df_filtered_trascations_tmp['boolean_filter'])\n",
    "df_filtered_trascations_3_2=df_filtered_trascations_tmp.filter(df_filtered_trascations_tmp['boolean_filter']==True)"
   ]
  },
  {
   "cell_type": "code",
   "execution_count": 55,
   "metadata": {
    "collapsed": false
   },
   "outputs": [
    {
     "name": "stdout",
     "output_type": "stream",
     "text": [
      "<class 'pyspark.sql.column.Column'>\n",
      "\n",
      "\n",
      "root\n",
      " |-- transaction_id: long (nullable = true)\n",
      " |-- date: string (nullable = true)\n",
      " |-- magasin: long (nullable = true)\n",
      " |-- quantity: long (nullable = true)\n",
      " |-- unit_price: long (nullable = true)\n",
      " |-- boolean_filter: boolean (nullable = true)\n",
      "\n"
     ]
    }
   ],
   "source": [
    "# la condition donnée à filter en première ligne n'est autre qu'une colonne de type boolean (testé en la créant avec un select)\n",
    "print type(df_filtered_trascations_tmp.boolean_filter)\n",
    "print '\\n'\n",
    "df_filtered_trascations_tmp.printSchema()\n"
   ]
  },
  {
   "cell_type": "code",
   "execution_count": 56,
   "metadata": {
    "collapsed": false
   },
   "outputs": [
    {
     "name": "stdout",
     "output_type": "stream",
     "text": [
      "468\n",
      "20\n",
      "20\n",
      "20\n",
      "20\n"
     ]
    }
   ],
   "source": [
    "print df_trs.count()\n",
    "print df_filtered_trascations_2_1.count()\n",
    "print df_filtered_trascations_2_2.count()\n",
    "print df_filtered_trascations_3_1.count()\n",
    "print df_filtered_trascations_3_2.count()"
   ]
  },
  {
   "cell_type": "code",
   "execution_count": null,
   "metadata": {
    "collapsed": true
   },
   "outputs": [],
   "source": []
  },
  {
   "cell_type": "code",
   "execution_count": null,
   "metadata": {
    "collapsed": true
   },
   "outputs": [],
   "source": []
  },
  {
   "cell_type": "code",
   "execution_count": null,
   "metadata": {
    "collapsed": true
   },
   "outputs": [],
   "source": []
  },
  {
   "cell_type": "markdown",
   "metadata": {},
   "source": [
    "##### a - 3 - other basic transformations (lazy)"
   ]
  },
  {
   "cell_type": "code",
   "execution_count": 57,
   "metadata": {
    "collapsed": false
   },
   "outputs": [
    {
     "name": "stdout",
     "output_type": "stream",
     "text": [
      "root\n",
      " |-- transaction_id: long (nullable = true)\n",
      " |-- date: string (nullable = true)\n",
      " |-- magasin: long (nullable = true)\n",
      " |-- quantity: long (nullable = true)\n",
      " |-- unit_price: long (nullable = true)\n",
      " |-- CA: long (nullable = true)\n",
      "\n"
     ]
    }
   ],
   "source": [
    "# add a column\n",
    "df_trs.withColumn('CA',(df_trs['quantity']*df_trs['unit_price'])).printSchema()"
   ]
  },
  {
   "cell_type": "code",
   "execution_count": 58,
   "metadata": {
    "collapsed": false
   },
   "outputs": [
    {
     "name": "stdout",
     "output_type": "stream",
     "text": [
      "root\n",
      " |-- transaction_id: long (nullable = true)\n",
      " |-- date: string (nullable = true)\n",
      " |-- magasin: long (nullable = true)\n",
      " |-- quantity: long (nullable = true)\n",
      " |-- price: long (nullable = true)\n",
      "\n"
     ]
    }
   ],
   "source": [
    "# rename a column\n",
    "df_trs.withColumnRenamed('unit_price','price').printSchema()"
   ]
  },
  {
   "cell_type": "code",
   "execution_count": 59,
   "metadata": {
    "collapsed": false
   },
   "outputs": [
    {
     "name": "stdout",
     "output_type": "stream",
     "text": [
      "root\n",
      " |-- transaction_id: long (nullable = true)\n",
      " |-- date: string (nullable = true)\n",
      " |-- quantity: long (nullable = true)\n",
      " |-- unit_price: long (nullable = true)\n",
      "\n"
     ]
    }
   ],
   "source": [
    "df_trs.drop('magasin').printSchema()"
   ]
  },
  {
   "cell_type": "code",
   "execution_count": 60,
   "metadata": {
    "collapsed": false
   },
   "outputs": [
    {
     "name": "stdout",
     "output_type": "stream",
     "text": [
      "468\n",
      "412\n"
     ]
    }
   ],
   "source": [
    "print df_trs.count()\n",
    "print df_trs.dropDuplicates(['quantity','unit_price']).count()"
   ]
  },
  {
   "cell_type": "code",
   "execution_count": null,
   "metadata": {
    "collapsed": true
   },
   "outputs": [],
   "source": []
  },
  {
   "cell_type": "code",
   "execution_count": 62,
   "metadata": {
    "collapsed": true
   },
   "outputs": [],
   "source": [
    "# select distinct elements \n",
    "df_tmp=df_trs.select('quantity','unit_price')\n",
    "df2=df_tmp.distinct()"
   ]
  },
  {
   "cell_type": "code",
   "execution_count": 63,
   "metadata": {
    "collapsed": false
   },
   "outputs": [
    {
     "name": "stdout",
     "output_type": "stream",
     "text": [
      "468\n",
      "412\n"
     ]
    }
   ],
   "source": [
    "print df_tmp.count()\n",
    "print df2.count()"
   ]
  },
  {
   "cell_type": "code",
   "execution_count": 64,
   "metadata": {
    "collapsed": false
   },
   "outputs": [
    {
     "name": "stdout",
     "output_type": "stream",
     "text": [
      "412\n"
     ]
    }
   ],
   "source": [
    "print df_trs.dropDuplicates(['quantity','unit_price']).count()\n"
   ]
  },
  {
   "cell_type": "code",
   "execution_count": null,
   "metadata": {
    "collapsed": true
   },
   "outputs": [],
   "source": []
  },
  {
   "cell_type": "code",
   "execution_count": 65,
   "metadata": {
    "collapsed": false
   },
   "outputs": [
    {
     "name": "stdout",
     "output_type": "stream",
     "text": [
      "[Row(date=u'2016-06-01', magasin=12), Row(date=u'2016-06-01', magasin=39), Row(date=u'2016-06-02', magasin=15)]\n"
     ]
    }
   ],
   "source": [
    "#orderBY\n",
    "print df_trs.select('date','magasin').orderBy(\"date\", ascending=True).take(3)\n"
   ]
  },
  {
   "cell_type": "code",
   "execution_count": 66,
   "metadata": {
    "collapsed": false
   },
   "outputs": [
    {
     "name": "stdout",
     "output_type": "stream",
     "text": [
      "[Row(date=u'2016-06-01', magasin=39), Row(date=u'2016-06-01', magasin=12), Row(date=u'2016-06-02', magasin=2)]\n"
     ]
    }
   ],
   "source": [
    "print df_trs.select('date','magasin').sort(\"date\", ascending=True).take(3)"
   ]
  },
  {
   "cell_type": "code",
   "execution_count": 67,
   "metadata": {
    "collapsed": false
   },
   "outputs": [
    {
     "name": "stdout",
     "output_type": "stream",
     "text": [
      "[Row(date=u'2016-06-01', magasin=12), Row(date=u'2016-06-01', magasin=39), Row(date=u'2016-06-02', magasin=2)]\n"
     ]
    }
   ],
   "source": [
    "print df_trs.select('date','magasin').sort([\"date\",'magasin'], ascending=True).take(3)"
   ]
  },
  {
   "cell_type": "code",
   "execution_count": 68,
   "metadata": {
    "collapsed": false
   },
   "outputs": [
    {
     "name": "stdout",
     "output_type": "stream",
     "text": [
      "[Row(date=u'2016-06-01', magasin=12), Row(date=u'2016-06-01', magasin=39), Row(date=u'2016-06-02', magasin=15)]\n",
      "[Row(date=u'2016-06-01', magasin=39), Row(date=u'2016-06-01', magasin=12), Row(date=u'2016-06-02', magasin=15)]\n",
      "[Row(date=u'2016-06-01', magasin=12), Row(date=u'2016-06-01', magasin=39), Row(date=u'2016-06-02', magasin=2)]\n"
     ]
    }
   ],
   "source": [
    "import pyspark.sql.functions as F \n",
    "print df_trs.select('date','magasin').orderBy(F.asc('date')).take(3)\n",
    "print df_trs.select('date','magasin').orderBy(F.asc('date'),F.desc('magasin')).take(3)\n",
    "print df_trs.select('date','magasin').orderBy(F.asc('date'),F.asc('magasin')).take(3)"
   ]
  },
  {
   "cell_type": "code",
   "execution_count": 69,
   "metadata": {
    "collapsed": false
   },
   "outputs": [
    {
     "name": "stdout",
     "output_type": "stream",
     "text": [
      "[Row(date=u'2016-06-01', magasin=39), Row(date=u'2016-06-01', magasin=12), Row(date=u'2016-06-02', magasin=2)]\n"
     ]
    }
   ],
   "source": [
    "print df_trs.select('date','magasin').orderBy(df_trs['date'].asc(), df_trs['date'].desc()).take(3)"
   ]
  },
  {
   "cell_type": "code",
   "execution_count": 70,
   "metadata": {
    "collapsed": false
   },
   "outputs": [
    {
     "name": "stdout",
     "output_type": "stream",
     "text": [
      "[Row(date=u'2016-06-01', magasin=39), Row(date=u'2016-06-01', magasin=12), Row(date=u'2016-06-02', magasin=15)]\n"
     ]
    }
   ],
   "source": [
    "print df_trs.select('date','magasin').orderBy(F.col('date').asc(), F.col('magasin').desc()).take(3)"
   ]
  },
  {
   "cell_type": "code",
   "execution_count": null,
   "metadata": {
    "collapsed": true
   },
   "outputs": [],
   "source": []
  },
  {
   "cell_type": "code",
   "execution_count": 76,
   "metadata": {
    "collapsed": true
   },
   "outputs": [],
   "source": [
    "#intersect - subtract - unionAll"
   ]
  },
  {
   "cell_type": "code",
   "execution_count": 77,
   "metadata": {
    "collapsed": true
   },
   "outputs": [],
   "source": [
    "df_trs_magasin_0=df_trs.filter('magasin=0')\n",
    "df_trs_magasin_1=df_trs.filter('magasin=1')\n",
    "df_trs_magasin_1_0=df_trs.filter('magasin=1 or magasin=0')"
   ]
  },
  {
   "cell_type": "code",
   "execution_count": 78,
   "metadata": {
    "collapsed": false
   },
   "outputs": [
    {
     "name": "stdout",
     "output_type": "stream",
     "text": [
      "[Row(magasin=0)]\n"
     ]
    }
   ],
   "source": [
    "print df_trs_magasin_0.select('magasin').distinct().collect()"
   ]
  },
  {
   "cell_type": "code",
   "execution_count": 79,
   "metadata": {
    "collapsed": false
   },
   "outputs": [
    {
     "name": "stdout",
     "output_type": "stream",
     "text": [
      "[Row(magasin=1)]\n"
     ]
    }
   ],
   "source": [
    "print df_trs_magasin_1.select('magasin').distinct().collect()"
   ]
  },
  {
   "cell_type": "code",
   "execution_count": 80,
   "metadata": {
    "collapsed": false
   },
   "outputs": [
    {
     "data": {
      "text/plain": [
       "[Row(magasin=0), Row(magasin=1)]"
      ]
     },
     "execution_count": 80,
     "metadata": {},
     "output_type": "execute_result"
    }
   ],
   "source": [
    "union_df=df_trs_magasin_0.unionAll(df_trs_magasin_1)\n",
    "union_df.select('magasin').distinct().collect()"
   ]
  },
  {
   "cell_type": "code",
   "execution_count": 81,
   "metadata": {
    "collapsed": false
   },
   "outputs": [
    {
     "data": {
      "text/plain": [
       "[Row(magasin=1)]"
      ]
     },
     "execution_count": 81,
     "metadata": {},
     "output_type": "execute_result"
    }
   ],
   "source": [
    "union_df.subtract(df_trs_magasin_0).select('magasin').distinct().collect()"
   ]
  },
  {
   "cell_type": "code",
   "execution_count": 82,
   "metadata": {
    "collapsed": false
   },
   "outputs": [
    {
     "data": {
      "text/plain": [
       "[Row(magasin=0)]"
      ]
     },
     "execution_count": 82,
     "metadata": {},
     "output_type": "execute_result"
    }
   ],
   "source": [
    "union_df.subtract(df_trs_magasin_1).select('magasin').distinct().collect()"
   ]
  },
  {
   "cell_type": "code",
   "execution_count": 83,
   "metadata": {
    "collapsed": false
   },
   "outputs": [
    {
     "data": {
      "text/plain": [
       "[Row(magasin=1)]"
      ]
     },
     "execution_count": 83,
     "metadata": {},
     "output_type": "execute_result"
    }
   ],
   "source": [
    "union_df.intersect(df_trs_magasin_1).select('magasin').distinct().collect()"
   ]
  },
  {
   "cell_type": "code",
   "execution_count": 84,
   "metadata": {
    "collapsed": false
   },
   "outputs": [
    {
     "data": {
      "text/plain": [
       "[Row(magasin=0)]"
      ]
     },
     "execution_count": 84,
     "metadata": {},
     "output_type": "execute_result"
    }
   ],
   "source": [
    "union_df.intersect(df_trs_magasin_0).select('magasin').distinct().collect()"
   ]
  },
  {
   "cell_type": "code",
   "execution_count": null,
   "metadata": {
    "collapsed": true
   },
   "outputs": [],
   "source": []
  },
  {
   "cell_type": "code",
   "execution_count": 72,
   "metadata": {
    "collapsed": true
   },
   "outputs": [],
   "source": [
    "# null values"
   ]
  },
  {
   "cell_type": "code",
   "execution_count": 71,
   "metadata": {
    "collapsed": false
   },
   "outputs": [
    {
     "data": {
      "text/plain": [
       "DataFrame[transaction_id: bigint, date: string, magasin: bigint, quantity: bigint, unit_price: bigint]"
      ]
     },
     "execution_count": 71,
     "metadata": {},
     "output_type": "execute_result"
    }
   ],
   "source": [
    "#drop every row that has at least one null value\n",
    "df_trs.dropna(how='any',subset=['transaction_id','date'])\n",
    "#drop every row that has null values for all fields\n",
    "df_trs.dropna(how='all',subset=['transaction_id','date'])"
   ]
  },
  {
   "cell_type": "code",
   "execution_count": 73,
   "metadata": {
    "collapsed": false
   },
   "outputs": [
    {
     "data": {
      "text/plain": [
       "DataFrame[transaction_id: bigint, date: string, magasin: bigint, quantity: bigint, unit_price: bigint]"
      ]
     },
     "execution_count": 73,
     "metadata": {},
     "output_type": "execute_result"
    }
   ],
   "source": [
    "df_trs.fillna({'date': '2017-01-01', 'transaction_id': 0})"
   ]
  },
  {
   "cell_type": "code",
   "execution_count": null,
   "metadata": {
    "collapsed": true
   },
   "outputs": [],
   "source": []
  },
  {
   "cell_type": "code",
   "execution_count": null,
   "metadata": {
    "collapsed": true
   },
   "outputs": [],
   "source": []
  },
  {
   "cell_type": "markdown",
   "metadata": {},
   "source": [
    "### b - aggregation"
   ]
  },
  {
   "cell_type": "code",
   "execution_count": 85,
   "metadata": {
    "collapsed": false
   },
   "outputs": [
    {
     "data": {
      "text/plain": [
       "DataFrame[transaction_id: bigint, date: string, magasin: bigint, quantity: bigint, unit_price: bigint]"
      ]
     },
     "execution_count": 85,
     "metadata": {},
     "output_type": "execute_result"
    }
   ],
   "source": [
    "df_trs"
   ]
  },
  {
   "cell_type": "code",
   "execution_count": 86,
   "metadata": {
    "collapsed": false
   },
   "outputs": [
    {
     "data": {
      "text/plain": [
       "<pyspark.sql.group.GroupedData at 0x7fec1ac32c90>"
      ]
     },
     "execution_count": 86,
     "metadata": {},
     "output_type": "execute_result"
    }
   ],
   "source": [
    "df_trs.groupBy('magasin')"
   ]
  },
  {
   "cell_type": "code",
   "execution_count": 87,
   "metadata": {
    "collapsed": false
   },
   "outputs": [
    {
     "name": "stdout",
     "output_type": "stream",
     "text": [
      "DataFrame[magasin: bigint, count: bigint]\n",
      "[Row(magasin=29, count=15), Row(magasin=26, count=6)]\n"
     ]
    }
   ],
   "source": [
    "print df_trs.groupBy('magasin').count()\n",
    "print df_trs.groupBy('magasin').count().take(2)\n"
   ]
  },
  {
   "cell_type": "code",
   "execution_count": 89,
   "metadata": {
    "collapsed": true
   },
   "outputs": [],
   "source": [
    "#specific built in aggregation on grouped data\n"
   ]
  },
  {
   "cell_type": "code",
   "execution_count": 88,
   "metadata": {
    "collapsed": false
   },
   "outputs": [
    {
     "name": "stdout",
     "output_type": "stream",
     "text": [
      "Row(magasin=29, count=15)\n",
      "Row(magasin=29, avg(quantity)=49.53333333333333, avg(unit_price)=10.333333333333334)\n",
      "Row(magasin=29, sum(quantity)=743)\n",
      "Row(magasin=29, min(unit_price)=2)\n",
      "Row(magasin=29, max(unit_price)=18)\n"
     ]
    }
   ],
   "source": [
    "print df_trs.groupBy('magasin').count().first()\n",
    "print df_trs.groupBy('magasin').avg('quantity','unit_price').first()\n",
    "print df_trs.groupBy('magasin').sum('quantity').first()\n",
    "print df_trs.groupBy('magasin').min('unit_price').first()\n",
    "print df_trs.groupBy('magasin').max('unit_price').first()"
   ]
  },
  {
   "cell_type": "code",
   "execution_count": 90,
   "metadata": {
    "collapsed": false
   },
   "outputs": [
    {
     "data": {
      "text/plain": [
       "<pyspark.sql.group.GroupedData at 0x7fec1ace45d0>"
      ]
     },
     "execution_count": 90,
     "metadata": {},
     "output_type": "execute_result"
    }
   ],
   "source": [
    "df_trs.groupBy('magasin').pivot('date')"
   ]
  },
  {
   "cell_type": "code",
   "execution_count": 96,
   "metadata": {
    "collapsed": false
   },
   "outputs": [
    {
     "name": "stdout",
     "output_type": "stream",
     "text": [
      "+-------+----------+----------+----------+----------+----------+----------+\n",
      "|magasin|2016-06-01|2016-06-02|2016-06-03|2016-06-04|2016-06-05|2016-06-06|\n",
      "+-------+----------+----------+----------+----------+----------+----------+\n",
      "|     29|      null|      null|      null|      null|      null|      null|\n",
      "|     26|      null|      null|      null|      null|      null|      null|\n",
      "|     19|      null|      null|      null|      null|      null|      null|\n",
      "|      0|      null|      null|      null|      null|      null|      null|\n",
      "|     22|      null|      null|      null|      null|      null|      null|\n",
      "|      7|      null|      null|      null|      null|      null|      null|\n",
      "|     34|      null|      null|      null|      null|      null|      null|\n",
      "|     43|      null|      null|      null|      null|      null|      null|\n",
      "|     32|      null|      null|      null|       4.0|      null|      null|\n",
      "|     31|      null|      null|      null|      null|      null|      null|\n",
      "+-------+----------+----------+----------+----------+----------+----------+\n",
      "only showing top 10 rows\n",
      "\n"
     ]
    }
   ],
   "source": [
    "(df_trs\n",
    " .groupBy('magasin')\n",
    " .pivot('date',['2016-06-01','2016-06-02','2016-06-03','2016-06-04','2016-06-05','2016-06-06'])\n",
    " .mean('unit_price')\n",
    " .show(10)\n",
    ")"
   ]
  },
  {
   "cell_type": "code",
   "execution_count": null,
   "metadata": {
    "collapsed": true
   },
   "outputs": [],
   "source": []
  },
  {
   "cell_type": "code",
   "execution_count": 97,
   "metadata": {
    "collapsed": true
   },
   "outputs": [],
   "source": [
    "#agg : for multiple different aggregations\n"
   ]
  },
  {
   "cell_type": "code",
   "execution_count": 98,
   "metadata": {
    "collapsed": false
   },
   "outputs": [
    {
     "name": "stdout",
     "output_type": "stream",
     "text": [
      "+-------+-------------+------------------+\n",
      "|magasin|sum(quantity)|   avg(unit_price)|\n",
      "+-------+-------------+------------------+\n",
      "|     29|          743|10.333333333333334|\n",
      "|     26|          200|11.833333333333334|\n",
      "|     19|          509|               8.3|\n",
      "|      0|          367|             10.25|\n",
      "|     22|          463| 9.222222222222221|\n",
      "+-------+-------------+------------------+\n",
      "only showing top 5 rows\n",
      "\n"
     ]
    }
   ],
   "source": [
    "#using dict \n",
    "df_trs.groupBy('magasin').agg({'unit_price': 'mean','quantity':'sum'}).show(5)"
   ]
  },
  {
   "cell_type": "code",
   "execution_count": 99,
   "metadata": {
    "collapsed": true
   },
   "outputs": [],
   "source": [
    "#using sql.functions\n",
    "agg_columns_with_functions=[\n",
    "                         F.count('*').alias('nb_transactions'),\n",
    "                        F.countDistinct('date').alias('nb_days'),\n",
    "                        (100*F.count('*')/F.countDistinct('date')).alias('ratio'),\n",
    "                        F.min('CA').alias('min_CA'),\n",
    "                        F.max('CA').alias('max_CA'),\n",
    "                        F.sum('CA').alias('sum_CA'),\n",
    "                        F.mean('CA').alias('mean_CA'),\n",
    "                        F.stddev('CA').alias('stdv_CA'),\n",
    "                        F.variance('CA').alias('variance_CA'),\n",
    "                        F.skewness('CA').alias('skewness_CA'),\n",
    "                        F.kurtosis('CA').alias('kurtosis_CA'),\n",
    "                        F.first('CA').alias('first_CA'),\n",
    "                        F.last('CA').alias('last_CA'),\n",
    "    \n",
    "]"
   ]
  },
  {
   "cell_type": "code",
   "execution_count": 100,
   "metadata": {
    "collapsed": true
   },
   "outputs": [],
   "source": [
    "stats_df=(df_trs.select('*',(F.col('quantity')*F.col('unit_price')).alias('CA'))\n",
    "                .filter('CA>0')\n",
    "                  .groupBy('magasin')\n",
    "                  .agg(*agg_columns_with_functions)\n",
    "          )"
   ]
  },
  {
   "cell_type": "code",
   "execution_count": 101,
   "metadata": {
    "collapsed": false
   },
   "outputs": [
    {
     "data": {
      "text/plain": [
       "Row(magasin=29, nb_transactions=15, nb_days=15, ratio=100.0, min_CA=72, max_CA=1360, sum_CA=8214, mean_CA=547.6, stdv_CA=486.8742577474628, variance_CA=237046.54285714286, skewness_CA=0.6859056107514366, kurtosis_CA=-1.1731860174523876, first_CA=288, last_CA=72)"
      ]
     },
     "execution_count": 101,
     "metadata": {},
     "output_type": "execute_result"
    }
   ],
   "source": [
    "stats_df.first()"
   ]
  },
  {
   "cell_type": "code",
   "execution_count": null,
   "metadata": {
    "collapsed": true
   },
   "outputs": [],
   "source": []
  },
  {
   "cell_type": "code",
   "execution_count": null,
   "metadata": {
    "collapsed": true
   },
   "outputs": [],
   "source": []
  },
  {
   "cell_type": "code",
   "execution_count": null,
   "metadata": {
    "collapsed": true
   },
   "outputs": [],
   "source": []
  },
  {
   "cell_type": "markdown",
   "metadata": {},
   "source": [
    "### c - jointures"
   ]
  },
  {
   "cell_type": "code",
   "execution_count": 102,
   "metadata": {
    "collapsed": true
   },
   "outputs": [],
   "source": [
    "######joins types :\n",
    "#inner : only intersection keys\n",
    "#left_outer : only keys in the left df\n",
    "#right_outer : only keys in the right df\n",
    "#outer : all keys in the right df and left df \n",
    "\n",
    "##############if the join key is not distinct in all rows of left df for ex,  \n",
    "##############a left outer, or an outer join will generate for the same key at least two lines in the resulting df \n"
   ]
  },
  {
   "cell_type": "code",
   "execution_count": 103,
   "metadata": {
    "collapsed": false
   },
   "outputs": [
    {
     "data": {
      "text/plain": [
       "DataFrame[transaction_id: bigint, date: string, magasin: bigint, quantity: bigint, unit_price: bigint]"
      ]
     },
     "execution_count": 103,
     "metadata": {},
     "output_type": "execute_result"
    }
   ],
   "source": [
    "df_trs"
   ]
  },
  {
   "cell_type": "code",
   "execution_count": 104,
   "metadata": {
    "collapsed": false
   },
   "outputs": [
    {
     "data": {
      "text/plain": [
       "DataFrame[magasin: bigint, pays: string, ville: string]"
      ]
     },
     "execution_count": 104,
     "metadata": {},
     "output_type": "execute_result"
    }
   ],
   "source": [
    "df_magasins"
   ]
  },
  {
   "cell_type": "code",
   "execution_count": 107,
   "metadata": {
    "collapsed": false
   },
   "outputs": [],
   "source": [
    "df_magasin_rows_added=df_magasins.unionAll(\n",
    "    sc.parallelize([\n",
    "            {'magasin': '9999', 'pays': 'fake', 'ville': 'fake'} , #  adding non exisiting magasin\n",
    "            {'magasin': '2', 'pays': 'france', 'ville': 'rennes'}  # duplicating existing line\n",
    "        ]).toDF()\n",
    ")\n"
   ]
  },
  {
   "cell_type": "code",
   "execution_count": 106,
   "metadata": {
    "collapsed": false
   },
   "outputs": [
    {
     "data": {
      "text/plain": [
       "468"
      ]
     },
     "execution_count": 106,
     "metadata": {},
     "output_type": "execute_result"
    }
   ],
   "source": [
    "df_trs.count()"
   ]
  },
  {
   "cell_type": "code",
   "execution_count": 108,
   "metadata": {
    "collapsed": false
   },
   "outputs": [
    {
     "data": {
      "text/plain": [
       "468"
      ]
     },
     "execution_count": 108,
     "metadata": {},
     "output_type": "execute_result"
    }
   ],
   "source": [
    "df_trs.join(df_magasin_rows_added.distinct(),\"magasin\", 'inner').count()"
   ]
  },
  {
   "cell_type": "code",
   "execution_count": 110,
   "metadata": {
    "collapsed": false
   },
   "outputs": [
    {
     "data": {
      "text/plain": [
       "480"
      ]
     },
     "execution_count": 110,
     "metadata": {},
     "output_type": "execute_result"
    }
   ],
   "source": [
    "df_trs.join(df_magasin_rows_added,\"magasin\").count()"
   ]
  },
  {
   "cell_type": "code",
   "execution_count": 111,
   "metadata": {
    "collapsed": false
   },
   "outputs": [
    {
     "data": {
      "text/plain": [
       "468"
      ]
     },
     "execution_count": 111,
     "metadata": {},
     "output_type": "execute_result"
    }
   ],
   "source": [
    "df_trs.join(df_magasin_rows_added.distinct(),\"magasin\",'left_outer').count()"
   ]
  },
  {
   "cell_type": "code",
   "execution_count": 112,
   "metadata": {
    "collapsed": false
   },
   "outputs": [
    {
     "data": {
      "text/plain": [
       "469"
      ]
     },
     "execution_count": 112,
     "metadata": {},
     "output_type": "execute_result"
    }
   ],
   "source": [
    "df_trs.join(df_magasin_rows_added.distinct(),\"magasin\",'right_outer').count()"
   ]
  },
  {
   "cell_type": "code",
   "execution_count": 113,
   "metadata": {
    "collapsed": false
   },
   "outputs": [
    {
     "data": {
      "text/plain": [
       "Row(magasin=u'9999', transaction_id=None, date=None, quantity=None, unit_price=None, pays=u'fake', ville=u'fake')"
      ]
     },
     "execution_count": 113,
     "metadata": {},
     "output_type": "execute_result"
    }
   ],
   "source": [
    "df_trs.join(df_magasin_rows_added.distinct(),\"magasin\",'right_outer').filter('transaction_id is null').first()"
   ]
  },
  {
   "cell_type": "code",
   "execution_count": 114,
   "metadata": {
    "collapsed": false
   },
   "outputs": [
    {
     "data": {
      "text/plain": [
       "468"
      ]
     },
     "execution_count": 114,
     "metadata": {},
     "output_type": "execute_result"
    }
   ],
   "source": [
    "# inner is the default type when not specified\n",
    "df_trs.join(df_magasins,\"magasin\",'left_outer').count()"
   ]
  },
  {
   "cell_type": "code",
   "execution_count": 115,
   "metadata": {
    "collapsed": false
   },
   "outputs": [
    {
     "data": {
      "text/plain": [
       "468"
      ]
     },
     "execution_count": 115,
     "metadata": {},
     "output_type": "execute_result"
    }
   ],
   "source": [
    "# inner is the default type when not specified\n",
    "df_trs.join(\n",
    "            df_magasin_rows_added.distinct().filter('magasin<>9999')\n",
    "            ,\"magasin\",'outer'\n",
    "            ).count()"
   ]
  },
  {
   "cell_type": "code",
   "execution_count": null,
   "metadata": {
    "collapsed": true
   },
   "outputs": [],
   "source": []
  }
 ],
 "metadata": {
  "kernelspec": {
   "display_name": "Python 2",
   "language": "python",
   "name": "python2"
  },
  "language_info": {
   "codemirror_mode": {
    "name": "ipython",
    "version": 2
   },
   "file_extension": ".py",
   "mimetype": "text/x-python",
   "name": "python",
   "nbconvert_exporter": "python",
   "pygments_lexer": "ipython2",
   "version": "2.7.13"
  }
 },
 "nbformat": 4,
 "nbformat_minor": 0
}
