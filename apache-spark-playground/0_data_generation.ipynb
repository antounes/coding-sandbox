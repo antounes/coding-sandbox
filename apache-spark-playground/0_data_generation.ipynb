{
 "cells": [
  {
   "cell_type": "markdown",
   "metadata": {},
   "source": [
    "## imports and get_period function"
   ]
  },
  {
   "cell_type": "code",
   "execution_count": 5,
   "metadata": {
    "collapsed": true,
    "jupyter": {
     "outputs_hidden": true
    }
   },
   "outputs": [],
   "source": [
    "import pandas as pd \n",
    "import numpy as np \n",
    "\n",
    "def get_period(start=None, end=None, periods=None):\n",
    "    if end and start:\n",
    "        return map(lambda x: str(x)[:10] , pd.date_range(start,end))\n",
    "    if periods and start:\n",
    "        return map(lambda x: str(x)[:10] , pd.date_range(start=start,periods=periods))\n",
    "    if periods and end:\n",
    "        return map(lambda x: str(x)[:10] , pd.date_range(end=end,periods=periods))\n",
    "    return []"
   ]
  },
  {
   "cell_type": "code",
   "execution_count": 2,
   "metadata": {
    "collapsed": false,
    "jupyter": {
     "outputs_hidden": false
    }
   },
   "outputs": [
    {
     "data": {
      "text/plain": [
       "('2016-06-01', '2016-06-02', '2017-01-20')"
      ]
     },
     "execution_count": 2,
     "metadata": {},
     "output_type": "execute_result"
    }
   ],
   "source": [
    "dates=get_period(start=\"2016-06-01\",end=\"2017-01-20\")\n",
    "dates[0],dates[1],dates[-1]"
   ]
  },
  {
   "cell_type": "code",
   "execution_count": null,
   "metadata": {
    "collapsed": true,
    "jupyter": {
     "outputs_hidden": true
    }
   },
   "outputs": [],
   "source": []
  },
  {
   "cell_type": "markdown",
   "metadata": {},
   "source": [
    "## fake transactions data generation"
   ]
  },
  {
   "cell_type": "code",
   "execution_count": 6,
   "metadata": {
    "collapsed": false,
    "jupyter": {
     "outputs_hidden": false
    }
   },
   "outputs": [],
   "source": [
    "ll=[]\n",
    "for id_,d in enumerate(dates) :\n",
    "    ll.append(str(id_)+'\\t'+d+'\\t'+str(np.random.randint(50))+'\\t'+str(np.random.randint(100))+'\\t'+str(np.random.randint(20)))\n",
    "for id_,d in enumerate(dates) :\n",
    "    ll.append(str(len(dates)+id_)+'\\t'+d+'\\t'+str(np.random.randint(50))+'\\t'+str(np.random.randint(100))+'\\t'+str(np.random.randint(20)))\n"
   ]
  },
  {
   "cell_type": "code",
   "execution_count": 7,
   "metadata": {
    "collapsed": true,
    "jupyter": {
     "outputs_hidden": true
    }
   },
   "outputs": [],
   "source": [
    "data_transaction='\\n'.join(['transaction_id\\tdate\\tmagasin\\tquantity\\tunit_price']+ll)"
   ]
  },
  {
   "cell_type": "code",
   "execution_count": 8,
   "metadata": {
    "collapsed": true,
    "jupyter": {
     "outputs_hidden": true
    }
   },
   "outputs": [],
   "source": [
    "with open('transactions.txt','w') as f :\n",
    "    f.write(data_transaction)"
   ]
  },
  {
   "cell_type": "code",
   "execution_count": null,
   "metadata": {
    "collapsed": true,
    "jupyter": {
     "outputs_hidden": true
    }
   },
   "outputs": [],
   "source": []
  },
  {
   "cell_type": "code",
   "execution_count": 14,
   "metadata": {
    "collapsed": true,
    "jupyter": {
     "outputs_hidden": true
    }
   },
   "outputs": [],
   "source": [
    "## fake magasin data generation"
   ]
  },
  {
   "cell_type": "code",
   "execution_count": 10,
   "metadata": {
    "collapsed": true,
    "jupyter": {
     "outputs_hidden": true
    }
   },
   "outputs": [],
   "source": [
    "Pays=[('france',['paris','brest','rennes']),('allemagne',['hamburg','berlin','munich']),('espagne',['madrid','valence','bilbao'])]\n",
    "# villes=\n",
    "magasins=[]\n",
    "for id_ in range(50) :\n",
    "    pays=Pays[np.random.randint(3)]\n",
    "    magasins.append(str(id_)+'\\t'+pays[0]+'\\t'+pays[1][np.random.randint(3)])\n"
   ]
  },
  {
   "cell_type": "code",
   "execution_count": 11,
   "metadata": {
    "collapsed": true,
    "jupyter": {
     "outputs_hidden": true
    }
   },
   "outputs": [],
   "source": [
    "data_magasins='\\n'.join(['magasin\\tpays\\tville']+magasins)\n"
   ]
  },
  {
   "cell_type": "code",
   "execution_count": 12,
   "metadata": {
    "collapsed": true,
    "jupyter": {
     "outputs_hidden": true
    }
   },
   "outputs": [],
   "source": [
    "with open('magasins.txt','w') as f :\n",
    "    f.write(data_magasins)"
   ]
  },
  {
   "cell_type": "code",
   "execution_count": null,
   "metadata": {
    "collapsed": true,
    "jupyter": {
     "outputs_hidden": true
    }
   },
   "outputs": [],
   "source": []
  }
 ],
 "metadata": {
  "kernelspec": {
   "display_name": "Python 3",
   "language": "python",
   "name": "python3"
  },
  "language_info": {
   "codemirror_mode": {
    "name": "ipython",
    "version": 3
   },
   "file_extension": ".py",
   "mimetype": "text/x-python",
   "name": "python",
   "nbconvert_exporter": "python",
   "pygments_lexer": "ipython3",
   "version": "3.8.5"
  }
 },
 "nbformat": 4,
 "nbformat_minor": 4
}
